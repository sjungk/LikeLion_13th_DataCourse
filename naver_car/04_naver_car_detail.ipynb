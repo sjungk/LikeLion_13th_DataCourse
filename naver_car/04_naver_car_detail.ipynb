{
 "cells": [
  {
   "cell_type": "code",
   "execution_count": 2,
   "id": "9c99ecdd",
   "metadata": {},
   "outputs": [],
   "source": [
    "from selenium import webdriver\n",
    "from bs4 import BeautifulSoup\n",
    "import pandas as pd"
   ]
  },
  {
   "cell_type": "code",
   "execution_count": 3,
   "id": "1303ef8e",
   "metadata": {},
   "outputs": [],
   "source": [
    "driver = webdriver.Chrome('chromedriver')\n",
    "\n",
    "url = \"https://auto.naver.com/\"\n",
    "driver.get(url)"
   ]
  },
  {
   "cell_type": "code",
   "execution_count": 4,
   "id": "05717f0c",
   "metadata": {},
   "outputs": [],
   "source": [
    "# //*[@id=\"_vendor_select_tab\"]/div[2]/div[1]/div/ul/li[1]/a"
   ]
  },
  {
   "cell_type": "code",
   "execution_count": 5,
   "id": "f1c248ec",
   "metadata": {},
   "outputs": [],
   "source": [
    "sel_xpath = '//*[@id=\"_vendor_select_tab\"]/div[2]/div[1]/div/ul/li[3]/a'\n",
    "sel_genesis = driver.find_element_by_xpath(sel_xpath)"
   ]
  },
  {
   "cell_type": "code",
   "execution_count": 6,
   "id": "2acd95f8",
   "metadata": {},
   "outputs": [],
   "source": [
    "sel_genesis.click()"
   ]
  },
  {
   "cell_type": "code",
   "execution_count": 7,
   "id": "f06ed4ba",
   "metadata": {},
   "outputs": [
    {
     "data": {
      "text/plain": [
       "'https://auto.naver.com/company/main.nhn?mnfcoNo=61321&importYn=N'"
      ]
     },
     "execution_count": 7,
     "metadata": {},
     "output_type": "execute_result"
    }
   ],
   "source": [
    "driver.current_url"
   ]
  },
  {
   "cell_type": "code",
   "execution_count": 8,
   "id": "98afda9d",
   "metadata": {},
   "outputs": [],
   "source": [
    "#제목 : //*[@id=\"modelListArea\"]/ul/li[1]/div/div/a[2]/span/strong\n",
    "#제목 : //*[@id=\"modelListArea\"]/ul/li[2]/div/div/a[2]/span/strong\n",
    "    \n",
    "#연비 : //*[@id=\"modelListArea\"]/ul/li[2]/div/ul/li[2]/span[2]/span/span\n",
    "#연비 : //*[@id=\"modelListArea\"]/ul/li[3]/div/ul/li[2]/span[2]/span/span\n",
    "    \n",
    "#연로 : //*[@id=\"modelListArea\"]/ul/li[1]/div/ul/li[2]/span[4]/span\n",
    "#연로 : //*[@id=\"modelListArea\"]/ul/li[2]/div/ul/li[2]/span[4]/span    \n",
    "   "
   ]
  },
  {
   "cell_type": "code",
   "execution_count": 9,
   "id": "5374394a",
   "metadata": {},
   "outputs": [],
   "source": [
    "## 하나만 가져오기"
   ]
  },
  {
   "cell_type": "code",
   "execution_count": 10,
   "id": "bf3c2e88",
   "metadata": {},
   "outputs": [],
   "source": [
    "xpath_tit = '//*[@id=\"modelListArea\"]/ul/li[1]/div/div/a[2]/span/strong'\n",
    "xpath_gas = '//*[@id=\"modelListArea\"]/ul/li[1]/div/ul/li[2]/span[2]/span/span/span'\n",
    "xpath_gas2 = '//*[@id=\"modelListArea\"]/ul/li[1]/div/ul/li[2]/span[2]/span/span'\n",
    "\n",
    "sel_tit = driver.find_element_by_xpath(xpath_tit)\n",
    "sel_gas = driver.find_element_by_xpath(xpath_gas)\n",
    "sel_gas2 = driver.find_element_by_xpath(xpath_gas2)"
   ]
  },
  {
   "cell_type": "code",
   "execution_count": 11,
   "id": "586c55e1",
   "metadata": {},
   "outputs": [
    {
     "name": "stdout",
     "output_type": "stream",
     "text": [
      "2022 GV60\n",
      "정보없음\n",
      "정보없음\n"
     ]
    }
   ],
   "source": [
    "print(sel_tit.text)\n",
    "print(sel_gas.text)\n",
    "print(sel_gas2.text)"
   ]
  },
  {
   "cell_type": "code",
   "execution_count": 12,
   "id": "cf4b00eb",
   "metadata": {},
   "outputs": [],
   "source": [
    "## 여러 개 가져오기"
   ]
  },
  {
   "cell_type": "code",
   "execution_count": 13,
   "id": "b1d0cd14",
   "metadata": {},
   "outputs": [
    {
     "data": {
      "text/plain": [
       "9"
      ]
     },
     "execution_count": 13,
     "metadata": {},
     "output_type": "execute_result"
    }
   ],
   "source": [
    "xpath_tit = '//*[@id=\"modelListArea\"]/ul/li/div/div/a[2]/span/strong'\n",
    "sel_tits = driver.find_elements_by_xpath(xpath_tit)\n",
    "len(sel_tits)"
   ]
  },
  {
   "cell_type": "code",
   "execution_count": 14,
   "id": "1bbd474a",
   "metadata": {},
   "outputs": [
    {
     "data": {
      "text/plain": [
       "(9, 9, 9)"
      ]
     },
     "execution_count": 14,
     "metadata": {},
     "output_type": "execute_result"
    }
   ],
   "source": [
    "xpath_tit = '//*[@id=\"modelListArea\"]/ul/li/div/div/a[2]/span/strong'\n",
    "xpath_gas = '//*[@id=\"modelListArea\"]/ul/li/div/ul/li[2]/span[2]/span/span'\n",
    "xpath_gas2 = '//*[@id=\"modelListArea\"]/ul/li/div/ul/li[2]/span[2]/span/span'\n",
    "\n",
    "sel_tits = driver.find_elements_by_xpath(xpath_tit)\n",
    "sel_gas = driver.find_elements_by_xpath(xpath_gas)\n",
    "sel_gas2 = driver.find_elements_by_xpath(xpath_gas2)\n",
    "\n",
    "len(sel_tits), len(sel_gas), len(sel_gas2)"
   ]
  },
  {
   "cell_type": "code",
   "execution_count": 19,
   "id": "766da9f2",
   "metadata": {},
   "outputs": [
    {
     "name": "stdout",
     "output_type": "stream",
     "text": [
      "2022 GV60\n",
      "2022 GV80\n",
      "2021 GV70\n",
      "2022 G80\n",
      "2021 G70\n",
      "2021 G90\n",
      "2021 일렉트리파이드 G80\n",
      "2021 G90L\n",
      "2021 G70 슈팅브레이크\n",
      "정보없음\n",
      "8.0~11.8km/ℓ\n",
      "8.5~13.5km/ℓ\n",
      "8.4~14.6km/ℓ\n",
      "8.9~14.9km/ℓ\n",
      "7.3~8.9km/ℓ\n",
      "4.3km/kWh\n",
      "7.2km/ℓ\n",
      "정보없음\n",
      "정보없음\n",
      "8.0~11.8km/ℓ\n",
      "8.5~13.5km/ℓ\n",
      "8.4~14.6km/ℓ\n",
      "8.9~14.9km/ℓ\n",
      "7.3~8.9km/ℓ\n",
      "4.3km/kWh\n",
      "7.2km/ℓ\n",
      "정보없음\n"
     ]
    }
   ],
   "source": [
    "dat_len= len(sel_tits)\n",
    "for one in sel_tits:\n",
    "    print(one.text)\n",
    "for one in sel_gas:\n",
    "    print(one.text)\n",
    "for one in sel_gas2:\n",
    "    print(one.text)"
   ]
  },
  {
   "cell_type": "code",
   "execution_count": 20,
   "id": "7a405207",
   "metadata": {},
   "outputs": [
    {
     "name": "stdout",
     "output_type": "stream",
     "text": [
      "2022 GV60, 정보없음, 정보없음\n",
      "2022 GV80, 8.0~11.8km/ℓ, 8.0~11.8km/ℓ\n",
      "2021 GV70, 8.5~13.5km/ℓ, 8.5~13.5km/ℓ\n",
      "2022 G80, 8.4~14.6km/ℓ, 8.4~14.6km/ℓ\n",
      "2021 G70, 8.9~14.9km/ℓ, 8.9~14.9km/ℓ\n",
      "2021 G90, 7.3~8.9km/ℓ, 7.3~8.9km/ℓ\n",
      "2021 일렉트리파이드 G80, 4.3km/kWh, 4.3km/kWh\n",
      "2021 G90L, 7.2km/ℓ, 7.2km/ℓ\n",
      "2021 G70 슈팅브레이크, 정보없음, 정보없음\n"
     ]
    }
   ],
   "source": [
    "dat_len = len(sel_tits)\n",
    "for one in range(dat_len):\n",
    "    print( sel_tits[one].text, sel_gas[one].text, sel_gas2[one].text, sep=\", \")\n",
    "    "
   ]
  },
  {
   "cell_type": "code",
   "execution_count": 22,
   "id": "159f30c9",
   "metadata": {},
   "outputs": [
    {
     "name": "stdout",
     "output_type": "stream",
     "text": [
      "2022 GV60, 정보없음, 정보없음\n",
      "2022 GV80, 8.0~11.8km/ℓ, 8.0~11.8km/ℓ\n",
      "2021 GV70, 8.5~13.5km/ℓ, 8.5~13.5km/ℓ\n",
      "2022 G80, 8.4~14.6km/ℓ, 8.4~14.6km/ℓ\n",
      "2021 G70, 8.9~14.9km/ℓ, 8.9~14.9km/ℓ\n",
      "2021 G90, 7.3~8.9km/ℓ, 7.3~8.9km/ℓ\n",
      "2021 일렉트리파이드 G80, 4.3km/kWh, 4.3km/kWh\n",
      "2021 G90L, 7.2km/ℓ, 7.2km/ℓ\n",
      "2021 G70 슈팅브레이크, 정보없음, 정보없음\n"
     ]
    },
    {
     "data": {
      "text/plain": [
       "(9, 9, 9)"
      ]
     },
     "execution_count": 22,
     "metadata": {},
     "output_type": "execute_result"
    }
   ],
   "source": [
    "dat_sel_tits = []\n",
    "dat_sel_gas = []\n",
    "dat_sel_gas2 = []\n",
    "\n",
    "for one in range(dat_len):\n",
    "    print( sel_tits[one].text, sel_gas[one].text, sel_gas2[one].text, sep=\", \")\n",
    "    dat_sel_tits.append( sel_tits[one].text )\n",
    "    dat_sel_gas.append( sel_gas[one].text )\n",
    "    dat_sel_gas2.append( sel_gas2[one].text )\n",
    "    \n",
    "len(dat_sel_tits), len(dat_sel_gas), len(dat_sel_gas2)    "
   ]
  },
  {
   "cell_type": "code",
   "execution_count": 23,
   "id": "e46bd044",
   "metadata": {},
   "outputs": [],
   "source": [
    "import pandas as pd"
   ]
  },
  {
   "cell_type": "code",
   "execution_count": 24,
   "id": "404997fc",
   "metadata": {},
   "outputs": [],
   "source": [
    "dict_dat = {\"차종\" : dat_sel_tits, \"연비\": dat_sel_gas, \"연로\": dat_sel_gas2}\n",
    "dat = pd.DataFrame(dict_dat)\n",
    "dat.to_csv(\"네이버_제네시스.csv\", index=False)\n",
    "dat.to_excel(\"네이버_제네시스.xlsx\", index=False)"
   ]
  },
  {
   "cell_type": "code",
   "execution_count": null,
   "id": "c5575d23",
   "metadata": {},
   "outputs": [],
   "source": []
  }
 ],
 "metadata": {
  "kernelspec": {
   "display_name": "Python 3",
   "language": "python",
   "name": "python3"
  },
  "language_info": {
   "codemirror_mode": {
    "name": "ipython",
    "version": 3
   },
   "file_extension": ".py",
   "mimetype": "text/x-python",
   "name": "python",
   "nbconvert_exporter": "python",
   "pygments_lexer": "ipython3",
   "version": "3.8.8"
  }
 },
 "nbformat": 4,
 "nbformat_minor": 5
}

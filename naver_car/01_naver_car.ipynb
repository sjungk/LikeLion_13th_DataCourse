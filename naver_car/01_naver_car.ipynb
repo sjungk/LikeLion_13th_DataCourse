{
 "cells": [
  {
   "cell_type": "code",
   "execution_count": 1,
   "id": "2dee46c1",
   "metadata": {},
   "outputs": [
    {
     "data": {
      "text/plain": [
       "'C:\\\\Users\\\\user\\\\Documents\\\\jupyter\\\\naver_car'"
      ]
     },
     "execution_count": 1,
     "metadata": {},
     "output_type": "execute_result"
    }
   ],
   "source": [
    "import os\n",
    "os.getcwd()"
   ]
  },
  {
   "cell_type": "code",
   "execution_count": 43,
   "id": "9767ba0a",
   "metadata": {},
   "outputs": [],
   "source": [
    "from selenium import webdriver\n",
    "from bs4 import BeautifulSoup\n",
    "import pandas as pd\n",
    "from urllib.request import urlopen\n",
    "import numpy as np\n",
    "driver = webdriver.Chrome('chromedriver')"
   ]
  },
  {
   "cell_type": "code",
   "execution_count": 5,
   "id": "1d123749",
   "metadata": {},
   "outputs": [],
   "source": [
    "url = \"https://auto.naver.com/\"\n",
    "driver.get(url)"
   ]
  },
  {
   "cell_type": "code",
   "execution_count": 7,
   "id": "53e1d6fe",
   "metadata": {},
   "outputs": [
    {
     "data": {
      "text/plain": [
       "<title>\n",
       "    \n",
       "        \n",
       "        \n",
       "        \n",
       "        \n",
       "        \n",
       "        \n",
       "        \n",
       "        \n",
       "        \n",
       "        \n",
       "        \n",
       "        \n",
       "        \n",
       "        \n",
       "        \n",
       "        \n",
       "        \n",
       "        \n",
       "        \n",
       "        \n",
       "        \n",
       "        \n",
       "        \n",
       "        \n",
       "        \n",
       "        \n",
       "        \n",
       "        \n",
       "        \n",
       "        \n",
       "        \n",
       "        \n",
       "        네이버 자동차\n",
       "    \n",
       "</title>"
      ]
     },
     "execution_count": 7,
     "metadata": {},
     "output_type": "execute_result"
    }
   ],
   "source": [
    "#BeautifulSoup으로 홈페이지를 맞게 가져왔는지 확인하는 작업\n",
    "soup = BeautifulSoup(driver.page_source, 'lxml')\n",
    "soup.title"
   ]
  },
  {
   "cell_type": "code",
   "execution_count": 10,
   "id": "f24282ad",
   "metadata": {},
   "outputs": [
    {
     "data": {
      "text/plain": [
       "<selenium.webdriver.remote.webelement.WebElement (session=\"eecac6dbea0e289fe5ef6fc8fab1bbc2\", element=\"483507fc-f2bf-4bc8-93eb-17ad1b314b33\")>"
      ]
     },
     "execution_count": 10,
     "metadata": {},
     "output_type": "execute_result"
    }
   ],
   "source": [
    "#네이버 자동차 홈페이지 메인의 자동차 브랜드 목록을 가져오는 작업\n",
    "all_brand = driver.find_element_by_xpath('//*[@id=\"_vendor_select_tab\"]/div[2]/div[1]')\n",
    "all_brand"
   ]
  },
  {
   "cell_type": "code",
   "execution_count": 11,
   "id": "cda19a36",
   "metadata": {},
   "outputs": [
    {
     "data": {
      "text/plain": [
       "'현대\\n기아\\n제네시스\\n르노삼성\\n쌍용\\n폭스바겐\\n벤츠\\nBMW\\n아우디\\n렉서스\\n토요타\\n혼다\\n볼보\\n미니\\n재규어\\n랜드로버\\n포드\\n링컨'"
      ]
     },
     "execution_count": 11,
     "metadata": {},
     "output_type": "execute_result"
    }
   ],
   "source": [
    "# 브랜드 목록을 글자로 가져오기\n",
    "all_brand.text"
   ]
  },
  {
   "cell_type": "code",
   "execution_count": null,
   "id": "87f53112",
   "metadata": {},
   "outputs": [],
   "source": [
    "## XPATH를 통해서 반복되는 규칙 확인하기\n",
    "\n",
    "# 현대 : //*[@id=\"_vendor_select_tab\"]/div[2]/div[1]/div/ul/li[1]/a\n",
    "# 르노삼성 : //*[@id=\"_vendor_select_tab\"]/div[2]/div[1]/div/ul/li[4]/a\n",
    "# 폭스바겐 : //*[@id=\"_vendor_select_tab\"]/div[2]/div[1]/div/ul/li[6]/a"
   ]
  },
  {
   "cell_type": "code",
   "execution_count": 15,
   "id": "19d31641",
   "metadata": {},
   "outputs": [
    {
     "data": {
      "text/plain": [
       "['현대',\n",
       " '기아',\n",
       " '제네시스',\n",
       " '르노삼성',\n",
       " '쌍용',\n",
       " '폭스바겐',\n",
       " '벤츠',\n",
       " 'BMW',\n",
       " '아우디',\n",
       " '렉서스',\n",
       " '토요타',\n",
       " '혼다',\n",
       " '볼보',\n",
       " '미니',\n",
       " '재규어',\n",
       " '랜드로버',\n",
       " '포드',\n",
       " '링컨']"
      ]
     },
     "execution_count": 15,
     "metadata": {},
     "output_type": "execute_result"
    }
   ],
   "source": [
    "# 가져온 브랜드 목록을 한줄로 정리하기\n",
    "pop_car = []\n",
    "\n",
    "for num in range (1,19,1):\n",
    "    xpath_url = '//*[@id=\"_vendor_select_tab\"]/div[2]/div[1]/div/ul/li ['  + str(num) + '] /a'\n",
    "    all_brand = driver.find_element_by_xpath(xpath_url)\n",
    "    pop_car.append(all_brand.text)\n",
    "pop_car    "
   ]
  },
  {
   "cell_type": "code",
   "execution_count": 56,
   "id": "f587d7bd",
   "metadata": {},
   "outputs": [],
   "source": [
    "dict_dat = {\"홈화면 자동차 제조사\" : pop_car}\n",
    "dat = pd.DataFrame(dict_dat)\n",
    "dat.to_csv(\"네이버_자동차_홈(국내).csv\", index=True)\n",
    "dat.to_excel(\"네이버_자동차_홈(국내).xlsx\", index=True)"
   ]
  },
  {
   "cell_type": "code",
   "execution_count": null,
   "id": "571d4b1a",
   "metadata": {},
   "outputs": [],
   "source": [
    "# 네이버 세부정보에서 전체 제조사 목록 가져오기"
   ]
  },
  {
   "cell_type": "code",
   "execution_count": 18,
   "id": "f8f9ccbb",
   "metadata": {},
   "outputs": [],
   "source": [
    "url2 = \"https://auto.naver.com/car/mainList.nhn?isMnfcoAll=Y&page=1\"\n",
    "driver.get(url2)"
   ]
  },
  {
   "cell_type": "code",
   "execution_count": 19,
   "id": "08577751",
   "metadata": {},
   "outputs": [
    {
     "data": {
      "text/plain": [
       "'현대\\n기아\\n제네시스\\n르노삼성\\n쌍용\\n폭스바겐\\n벤츠\\nBMW\\n아우디\\n렉서스\\n토요타\\n혼다\\n볼보\\n미니\\n재규어\\n랜드로버\\n포드\\n링컨\\n쉐보레\\n캐딜락\\n테슬라\\n지프\\n르노\\n푸조\\n시트로엥\\nDS\\n마세라티\\n포르쉐\\n람보르기니\\n페라리\\n맥라렌\\n부가티\\n애스턴마틴\\n마이바흐\\n롤스로이스\\n벤틀리\\n닛산\\n로터스\\n마쯔다\\n미쓰비시\\n복스홀\\n뷰익'"
      ]
     },
     "execution_count": 19,
     "metadata": {},
     "output_type": "execute_result"
    }
   ],
   "source": [
    "all_brand2 = driver.find_element_by_xpath('//*[@id=\"_vendor_select_layer\"]/div/div[1]/div[2]')\n",
    "all_brand2.text"
   ]
  },
  {
   "cell_type": "code",
   "execution_count": 20,
   "id": "1e77e42b",
   "metadata": {},
   "outputs": [],
   "source": [
    "# 규칙 확인하기\n",
    "## 현대 : //*[@id=\"_vendor_select_layer\"]/div/div[1]/div[2]/ul/li[1]/a\n",
    "## 랜드로버 : //*[@id=\"_vendor_select_layer\"]/div/div[1]/div[2]/ul/li[16]/a"
   ]
  },
  {
   "cell_type": "code",
   "execution_count": 21,
   "id": "5ffa49fc",
   "metadata": {},
   "outputs": [
    {
     "data": {
      "text/plain": [
       "['현대',\n",
       " '기아',\n",
       " '제네시스',\n",
       " '르노삼성',\n",
       " '쌍용',\n",
       " '폭스바겐',\n",
       " '벤츠',\n",
       " 'BMW',\n",
       " '아우디',\n",
       " '렉서스',\n",
       " '토요타',\n",
       " '혼다',\n",
       " '볼보',\n",
       " '미니',\n",
       " '재규어',\n",
       " '랜드로버',\n",
       " '포드',\n",
       " '링컨',\n",
       " '쉐보레',\n",
       " '캐딜락',\n",
       " '테슬라',\n",
       " '지프',\n",
       " '르노',\n",
       " '푸조',\n",
       " '시트로엥',\n",
       " 'DS',\n",
       " '마세라티',\n",
       " '포르쉐',\n",
       " '람보르기니',\n",
       " '페라리',\n",
       " '맥라렌',\n",
       " '부가티',\n",
       " '애스턴마틴',\n",
       " '마이바흐',\n",
       " '롤스로이스',\n",
       " '벤틀리',\n",
       " '닛산',\n",
       " '로터스',\n",
       " '마쯔다',\n",
       " '미쓰비시',\n",
       " '복스홀',\n",
       " '뷰익']"
      ]
     },
     "execution_count": 21,
     "metadata": {},
     "output_type": "execute_result"
    }
   ],
   "source": [
    "pop_car2 = []\n",
    "for num in range (1,43,1):\n",
    "    xpath_url2 = '//*[@id=\"_vendor_select_layer\"]/div/div[1]/div[2]/ul/li[' + str(num) + ']/a'\n",
    "    all_brand2 = driver.find_element_by_xpath(xpath_url2)\n",
    "    pop_car2.append(all_brand2.text)\n",
    "pop_car2    "
   ]
  },
  {
   "cell_type": "code",
   "execution_count": 57,
   "id": "ab7ed66c",
   "metadata": {},
   "outputs": [],
   "source": [
    "dict_dat = {\"전체 제조사\" : pop_car2}\n",
    "dat = pd.DataFrame(dict_dat)\n",
    "dat.to_csv(\"네이버_전체_제조사(국내).csv\", index=True)\n",
    "dat.to_excel(\"네이버_전체_제조사(국내).xlsx\", index=True)"
   ]
  }
 ],
 "metadata": {
  "kernelspec": {
   "display_name": "Python 3",
   "language": "python",
   "name": "python3"
  },
  "language_info": {
   "codemirror_mode": {
    "name": "ipython",
    "version": 3
   },
   "file_extension": ".py",
   "mimetype": "text/x-python",
   "name": "python",
   "nbconvert_exporter": "python",
   "pygments_lexer": "ipython3",
   "version": "3.8.8"
  }
 },
 "nbformat": 4,
 "nbformat_minor": 5
}

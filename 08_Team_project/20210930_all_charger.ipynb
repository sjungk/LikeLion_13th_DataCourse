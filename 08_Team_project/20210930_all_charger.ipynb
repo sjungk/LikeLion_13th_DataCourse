{
  "nbformat": 4,
  "nbformat_minor": 0,
  "metadata": {
    "colab": {
      "name": "20210930_all_charger.ipynb",
      "provenance": [],
      "collapsed_sections": []
    },
    "kernelspec": {
      "name": "python3",
      "display_name": "Python 3"
    },
    "language_info": {
      "name": "python"
    }
  },
  "cells": [
    {
      "cell_type": "code",
      "metadata": {
        "id": "g7OajE6Dd_Zi"
      },
      "source": [
        "import folium\n",
        "import pandas as pd"
      ],
      "execution_count": null,
      "outputs": []
    },
    {
      "cell_type": "code",
      "metadata": {
        "colab": {
          "base_uri": "https://localhost:8080/"
        },
        "id": "jko_y95MeJWd",
        "outputId": "6b567cf2-ee56-4dc2-dcb0-71c86137ec1b"
      },
      "source": [
        "data = pd.read_csv('korea_charger.csv', encoding='cp949')"
      ],
      "execution_count": null,
      "outputs": [
        {
          "output_type": "stream",
          "name": "stderr",
          "text": [
            "/usr/local/lib/python3.7/dist-packages/IPython/core/interactiveshell.py:2718: DtypeWarning: Columns (13,20) have mixed types.Specify dtype option on import or set low_memory=False.\n",
            "  interactivity=interactivity, compiler=compiler, result=result)\n"
          ]
        }
      ]
    },
    {
      "cell_type": "code",
      "metadata": {
        "colab": {
          "base_uri": "https://localhost:8080/",
          "height": 1000
        },
        "id": "W1jzPITPeLky",
        "outputId": "773e4b68-dca7-43d7-b068-482cfc400e80"
      },
      "source": [
        "data.head()"
      ],
      "execution_count": null,
      "outputs": [
        {
          "output_type": "execute_result",
          "data": {
            "text/html": [
              "<div>\n",
              "<style scoped>\n",
              "    .dataframe tbody tr th:only-of-type {\n",
              "        vertical-align: middle;\n",
              "    }\n",
              "\n",
              "    .dataframe tbody tr th {\n",
              "        vertical-align: top;\n",
              "    }\n",
              "\n",
              "    .dataframe thead th {\n",
              "        text-align: right;\n",
              "    }\n",
              "</style>\n",
              "<table border=\"1\" class=\"dataframe\">\n",
              "  <thead>\n",
              "    <tr style=\"text-align: right;\">\n",
              "      <th></th>\n",
              "      <th>STAT_NM</th>\n",
              "      <th>STAT_ID</th>\n",
              "      <th>CHGER_ID</th>\n",
              "      <th>CHGER_TYPE</th>\n",
              "      <th>ADDR</th>\n",
              "      <th>LAT</th>\n",
              "      <th>LON</th>\n",
              "      <th>USE_TIME</th>\n",
              "      <th>BUSI_ID</th>\n",
              "      <th>BUSI_NM</th>\n",
              "      <th>BUSI_CALL</th>\n",
              "      <th>CHGER_STAT</th>\n",
              "      <th>STAT_UPD_DT</th>\n",
              "      <th>POWER_TYPE</th>\n",
              "      <th>CITY_DO_CD</th>\n",
              "      <th>PARKING_FREE_YN</th>\n",
              "      <th>STAT_NOTE</th>\n",
              "      <th>LIMIT_YN</th>\n",
              "      <th>LIMIT_DETAIL</th>\n",
              "      <th>DEL_YN</th>\n",
              "      <th>DEL_DETAIL</th>\n",
              "    </tr>\n",
              "  </thead>\n",
              "  <tbody>\n",
              "    <tr>\n",
              "      <th>0</th>\n",
              "      <td>종묘 공영주차장</td>\n",
              "      <td>ME000001</td>\n",
              "      <td>1</td>\n",
              "      <td>3</td>\n",
              "      <td>서울특별시 종로구 종로 157, 지하주차장 4층 하층 T구역</td>\n",
              "      <td>37.571076</td>\n",
              "      <td>126.995880</td>\n",
              "      <td>24시간 이용가능</td>\n",
              "      <td>ME</td>\n",
              "      <td>환경부</td>\n",
              "      <td>1661-9408</td>\n",
              "      <td>9</td>\n",
              "      <td>2.020000e+13</td>\n",
              "      <td>급속(50kW)</td>\n",
              "      <td>11</td>\n",
              "      <td>Y</td>\n",
              "      <td>NaN</td>\n",
              "      <td>N</td>\n",
              "      <td>NaN</td>\n",
              "      <td>N</td>\n",
              "      <td>NaN</td>\n",
              "    </tr>\n",
              "    <tr>\n",
              "      <th>1</th>\n",
              "      <td>세종로 공영주차장</td>\n",
              "      <td>ME000002</td>\n",
              "      <td>1</td>\n",
              "      <td>6</td>\n",
              "      <td>서울특별시 종로구 세종대로 189, 지하주차장 4층 D구역 계단실 앞</td>\n",
              "      <td>37.573611</td>\n",
              "      <td>126.976011</td>\n",
              "      <td>24시간 이용가능</td>\n",
              "      <td>ME</td>\n",
              "      <td>환경부</td>\n",
              "      <td>1661-9408</td>\n",
              "      <td>2</td>\n",
              "      <td>2.020000e+13</td>\n",
              "      <td>급속(50kW)</td>\n",
              "      <td>11</td>\n",
              "      <td>Y</td>\n",
              "      <td>NaN</td>\n",
              "      <td>N</td>\n",
              "      <td>NaN</td>\n",
              "      <td>N</td>\n",
              "      <td>NaN</td>\n",
              "    </tr>\n",
              "    <tr>\n",
              "      <th>2</th>\n",
              "      <td>그랜드앰배서더 서울</td>\n",
              "      <td>ME000003</td>\n",
              "      <td>1</td>\n",
              "      <td>6</td>\n",
              "      <td>서울특별시 중구 동호로 287, 대형버스주차장</td>\n",
              "      <td>37.559352</td>\n",
              "      <td>127.002350</td>\n",
              "      <td>24시간 이용가능</td>\n",
              "      <td>ME</td>\n",
              "      <td>환경부</td>\n",
              "      <td>1661-9408</td>\n",
              "      <td>9</td>\n",
              "      <td>2.020000e+13</td>\n",
              "      <td>급속(50kW)</td>\n",
              "      <td>11</td>\n",
              "      <td>N</td>\n",
              "      <td>NaN</td>\n",
              "      <td>N</td>\n",
              "      <td>NaN</td>\n",
              "      <td>N</td>\n",
              "      <td>NaN</td>\n",
              "    </tr>\n",
              "    <tr>\n",
              "      <th>3</th>\n",
              "      <td>한강진역 공영주차장</td>\n",
              "      <td>ME000004</td>\n",
              "      <td>1</td>\n",
              "      <td>3</td>\n",
              "      <td>서울특별시 용산구 한남동 산10-84, 지상실외주차장</td>\n",
              "      <td>37.540085</td>\n",
              "      <td>127.002804</td>\n",
              "      <td>24시간 이용가능</td>\n",
              "      <td>ME</td>\n",
              "      <td>환경부</td>\n",
              "      <td>1661-9408</td>\n",
              "      <td>9</td>\n",
              "      <td>2.020000e+13</td>\n",
              "      <td>급속(50kW)</td>\n",
              "      <td>11</td>\n",
              "      <td>Y</td>\n",
              "      <td>NaN</td>\n",
              "      <td>N</td>\n",
              "      <td>NaN</td>\n",
              "      <td>N</td>\n",
              "      <td>NaN</td>\n",
              "    </tr>\n",
              "    <tr>\n",
              "      <th>4</th>\n",
              "      <td>기아차 성동서비스센터</td>\n",
              "      <td>ME000005</td>\n",
              "      <td>1</td>\n",
              "      <td>3</td>\n",
              "      <td>서울특별시 성동구 성수이로26길 61, 지상주차장 입구 좌측 경비실 옆</td>\n",
              "      <td>37.544834</td>\n",
              "      <td>127.064226</td>\n",
              "      <td>24시간 이용가능</td>\n",
              "      <td>ME</td>\n",
              "      <td>환경부</td>\n",
              "      <td>1661-9408</td>\n",
              "      <td>9</td>\n",
              "      <td>2.020000e+13</td>\n",
              "      <td>급속(50kW)</td>\n",
              "      <td>11</td>\n",
              "      <td>N</td>\n",
              "      <td>20190626 공사로 인한 임시철거</td>\n",
              "      <td>Y</td>\n",
              "      <td>20190626 공사로 인한 임시철거</td>\n",
              "      <td>N</td>\n",
              "      <td>NaN</td>\n",
              "    </tr>\n",
              "  </tbody>\n",
              "</table>\n",
              "</div>"
            ],
            "text/plain": [
              "       STAT_NM   STAT_ID  CHGER_ID  ...          LIMIT_DETAIL DEL_YN  DEL_DETAIL\n",
              "0     종묘 공영주차장  ME000001         1  ...                   NaN      N         NaN\n",
              "1    세종로 공영주차장  ME000002         1  ...                   NaN      N         NaN\n",
              "2   그랜드앰배서더 서울  ME000003         1  ...                   NaN      N         NaN\n",
              "3   한강진역 공영주차장  ME000004         1  ...                   NaN      N         NaN\n",
              "4  기아차 성동서비스센터  ME000005         1  ...  20190626 공사로 인한 임시철거      N         NaN\n",
              "\n",
              "[5 rows x 21 columns]"
            ]
          },
          "metadata": {},
          "execution_count": 4
        }
      ]
    },
    {
      "cell_type": "code",
      "metadata": {
        "colab": {
          "base_uri": "https://localhost:8080/"
        },
        "id": "ArpAppijeNJ-",
        "outputId": "275b5f59-63c8-4636-a223-8288a5b1cb23"
      },
      "source": [
        "data.info()"
      ],
      "execution_count": null,
      "outputs": [
        {
          "output_type": "stream",
          "name": "stdout",
          "text": [
            "<class 'pandas.core.frame.DataFrame'>\n",
            "RangeIndex: 69290 entries, 0 to 69289\n",
            "Data columns (total 21 columns):\n",
            " #   Column           Non-Null Count  Dtype  \n",
            "---  ------           --------------  -----  \n",
            " 0   STAT_NM          69290 non-null  object \n",
            " 1   STAT_ID          69290 non-null  object \n",
            " 2   CHGER_ID         69290 non-null  int64  \n",
            " 3   CHGER_TYPE       69290 non-null  int64  \n",
            " 4   ADDR             69195 non-null  object \n",
            " 5   LAT              69290 non-null  float64\n",
            " 6   LON              69290 non-null  float64\n",
            " 7   USE_TIME         61477 non-null  object \n",
            " 8   BUSI_ID          69290 non-null  object \n",
            " 9   BUSI_NM          69290 non-null  object \n",
            " 10  BUSI_CALL        64306 non-null  object \n",
            " 11  CHGER_STAT       69290 non-null  int64  \n",
            " 12  STAT_UPD_DT      67696 non-null  float64\n",
            " 13  POWER_TYPE       4375 non-null   object \n",
            " 14  CITY_DO_CD       69290 non-null  int64  \n",
            " 15  PARKING_FREE_YN  68684 non-null  object \n",
            " 16  STAT_NOTE        9689 non-null   object \n",
            " 17  LIMIT_YN         69290 non-null  object \n",
            " 18  LIMIT_DETAIL     32579 non-null  object \n",
            " 19  DEL_YN           69290 non-null  object \n",
            " 20  DEL_DETAIL       2 non-null      object \n",
            "dtypes: float64(3), int64(4), object(14)\n",
            "memory usage: 11.1+ MB\n"
          ]
        }
      ]
    },
    {
      "cell_type": "code",
      "metadata": {
        "colab": {
          "base_uri": "https://localhost:8080/"
        },
        "id": "XdFW8iD-eOnn",
        "outputId": "98c5e274-1590-4f6f-e62b-3fd8eff9c80b"
      },
      "source": [
        "data.columns"
      ],
      "execution_count": null,
      "outputs": [
        {
          "output_type": "execute_result",
          "data": {
            "text/plain": [
              "Index(['STAT_NM', 'STAT_ID', 'CHGER_ID', 'CHGER_TYPE', 'ADDR', 'LAT', 'LON',\n",
              "       'USE_TIME', 'BUSI_ID', 'BUSI_NM', 'BUSI_CALL', 'CHGER_STAT',\n",
              "       'STAT_UPD_DT', 'POWER_TYPE', 'CITY_DO_CD', 'PARKING_FREE_YN',\n",
              "       'STAT_NOTE', 'LIMIT_YN', 'LIMIT_DETAIL', 'DEL_YN', 'DEL_DETAIL'],\n",
              "      dtype='object')"
            ]
          },
          "metadata": {},
          "execution_count": 6
        }
      ]
    },
    {
      "cell_type": "code",
      "metadata": {
        "colab": {
          "base_uri": "https://localhost:8080/"
        },
        "id": "buKbcOMleP89",
        "outputId": "c4c5088f-1c4b-4696-9c9f-b1fcae81b5a5"
      },
      "source": [
        "data['LAT'][13], data['LON']"
      ],
      "execution_count": null,
      "outputs": [
        {
          "output_type": "execute_result",
          "data": {
            "text/plain": [
              "(37.60047527, 0        126.995880\n",
              " 1        126.976011\n",
              " 2        127.002350\n",
              " 3        127.002804\n",
              " 4        127.064226\n",
              "             ...    \n",
              " 69285    129.068415\n",
              " 69286    129.125781\n",
              " 69287    129.364458\n",
              " 69288    129.364458\n",
              " 69289    128.631878\n",
              " Name: LON, Length: 69290, dtype: float64)"
            ]
          },
          "metadata": {},
          "execution_count": 7
        }
      ]
    },
    {
      "cell_type": "code",
      "metadata": {
        "colab": {
          "base_uri": "https://localhost:8080/"
        },
        "id": "FXaYJenjeRT-",
        "outputId": "cb1f7ffb-807e-4b3e-80ea-2257afbb512f"
      },
      "source": [
        "data.dropna(subset=['LAT'],inplace=True)\n",
        "data.dropna(subset=['LON'],inplace=True)\n",
        "data.isnull().sum()"
      ],
      "execution_count": null,
      "outputs": [
        {
          "output_type": "execute_result",
          "data": {
            "text/plain": [
              "STAT_NM                0\n",
              "STAT_ID                0\n",
              "CHGER_ID               0\n",
              "CHGER_TYPE             0\n",
              "ADDR                  95\n",
              "LAT                    0\n",
              "LON                    0\n",
              "USE_TIME            7813\n",
              "BUSI_ID                0\n",
              "BUSI_NM                0\n",
              "BUSI_CALL           4984\n",
              "CHGER_STAT             0\n",
              "STAT_UPD_DT         1594\n",
              "POWER_TYPE         64915\n",
              "CITY_DO_CD             0\n",
              "PARKING_FREE_YN      606\n",
              "STAT_NOTE          59601\n",
              "LIMIT_YN               0\n",
              "LIMIT_DETAIL       36711\n",
              "DEL_YN                 0\n",
              "DEL_DETAIL         69288\n",
              "dtype: int64"
            ]
          },
          "metadata": {},
          "execution_count": 8
        }
      ]
    },
    {
      "cell_type": "code",
      "metadata": {
        "id": "GmsjhGkQeTQI"
      },
      "source": [
        "idx_nm_1 = data[data['LON'] == 124].index\n",
        "data = data.drop(idx_nm_1)"
      ],
      "execution_count": null,
      "outputs": []
    },
    {
      "cell_type": "code",
      "metadata": {
        "id": "PdMwwHk8gW1X"
      },
      "source": [
        "from folium import plugins\n",
        "loc = folium.Map(location = [36.581753, 127.861757],\n",
        "                zoom_start=10)\n",
        "des = data['STAT_NM']"
      ],
      "execution_count": null,
      "outputs": []
    },
    {
      "cell_type": "code",
      "metadata": {
        "id": "EieatR5bgYH0"
      },
      "source": [
        "dat_p1 = list( data['LAT'] )\n",
        "dat_p2 = list( data['LON'] )\n",
        "dat_xy = list(zip(dat_p1, dat_p2))"
      ],
      "execution_count": null,
      "outputs": []
    },
    {
      "cell_type": "code",
      "metadata": {
        "id": "LJz-LCphgYQM"
      },
      "source": [
        "m = folium.Map(location=[36.581753, 127.861757], zoom_start=7)\n",
        "plugins.MarkerCluster(dat_xy, popups = des).add_to(m)\n",
        "m"
      ],
      "execution_count": null,
      "outputs": []
    },
    {
      "cell_type": "code",
      "metadata": {
        "id": "d0BGdMT8gYUz"
      },
      "source": [
        "m.save(\"korea_charger.html\")     \n",
        "m"
      ],
      "execution_count": null,
      "outputs": []
    },
    {
      "cell_type": "code",
      "metadata": {
        "id": "TFYfKg2Pi4IQ"
      },
      "source": [
        ""
      ],
      "execution_count": null,
      "outputs": []
    }
  ]
}
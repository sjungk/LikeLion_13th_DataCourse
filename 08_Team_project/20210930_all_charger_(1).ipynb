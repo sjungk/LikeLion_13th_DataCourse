{
  "nbformat": 4,
  "nbformat_minor": 0,
  "metadata": {
    "colab": {
      "name": "20210930_all_charger (1).ipynb",
      "provenance": [],
      "collapsed_sections": []
    },
    "kernelspec": {
      "name": "python3",
      "display_name": "Python 3"
    },
    "language_info": {
      "name": "python"
    },
    "accelerator": "GPU"
  },
  "cells": [
    {
      "cell_type": "code",
      "metadata": {
        "id": "g7OajE6Dd_Zi"
      },
      "source": [
        "import folium\n",
        "import pandas as pd"
      ],
      "execution_count": null,
      "outputs": []
    },
    {
      "cell_type": "code",
      "metadata": {
        "colab": {
          "base_uri": "https://localhost:8080/"
        },
        "id": "jko_y95MeJWd",
        "outputId": "ec769e6b-8572-4893-fba6-32d4d0976c4e"
      },
      "source": [
        "data = pd.read_csv('charger_data.csv')"
      ],
      "execution_count": null,
      "outputs": [
        {
          "output_type": "stream",
          "name": "stderr",
          "text": [
            "/usr/local/lib/python3.7/dist-packages/IPython/core/interactiveshell.py:2718: DtypeWarning: Columns (13,20) have mixed types.Specify dtype option on import or set low_memory=False.\n",
            "  interactivity=interactivity, compiler=compiler, result=result)\n"
          ]
        }
      ]
    },
    {
      "cell_type": "code",
      "metadata": {
        "colab": {
          "base_uri": "https://localhost:8080/",
          "height": 1000
        },
        "id": "W1jzPITPeLky",
        "outputId": "17ae71cf-e420-4bb5-b287-e6560d16c6c9"
      },
      "source": [
        "data.head()"
      ],
      "execution_count": null,
      "outputs": [
        {
          "output_type": "execute_result",
          "data": {
            "text/html": [
              "<div>\n",
              "<style scoped>\n",
              "    .dataframe tbody tr th:only-of-type {\n",
              "        vertical-align: middle;\n",
              "    }\n",
              "\n",
              "    .dataframe tbody tr th {\n",
              "        vertical-align: top;\n",
              "    }\n",
              "\n",
              "    .dataframe thead th {\n",
              "        text-align: right;\n",
              "    }\n",
              "</style>\n",
              "<table border=\"1\" class=\"dataframe\">\n",
              "  <thead>\n",
              "    <tr style=\"text-align: right;\">\n",
              "      <th></th>\n",
              "      <th>STAT_NM</th>\n",
              "      <th>STAT_ID</th>\n",
              "      <th>CHGER_ID</th>\n",
              "      <th>CHGER_TYPE</th>\n",
              "      <th>ADDR</th>\n",
              "      <th>LAT</th>\n",
              "      <th>LON</th>\n",
              "      <th>USE_TIME</th>\n",
              "      <th>BUSI_ID</th>\n",
              "      <th>BUSI_NM</th>\n",
              "      <th>BUSI_CALL</th>\n",
              "      <th>CHGER_STAT</th>\n",
              "      <th>STAT_UPD_DT</th>\n",
              "      <th>POWER_TYPE</th>\n",
              "      <th>CITY_DO_CD</th>\n",
              "      <th>PARKING_FREE_YN</th>\n",
              "      <th>STAT_NOTE</th>\n",
              "      <th>LIMIT_YN</th>\n",
              "      <th>LIMIT_DETAIL</th>\n",
              "      <th>DEL_YN</th>\n",
              "      <th>DEL_DETAIL</th>\n",
              "    </tr>\n",
              "  </thead>\n",
              "  <tbody>\n",
              "    <tr>\n",
              "      <th>0</th>\n",
              "      <td>종묘 공영주차장</td>\n",
              "      <td>ME000001</td>\n",
              "      <td>1</td>\n",
              "      <td>3</td>\n",
              "      <td>서울특별시 종로구 종로 157, 지하주차장 4층 하층 T구역</td>\n",
              "      <td>37.571076</td>\n",
              "      <td>126.995880</td>\n",
              "      <td>24시간 이용가능</td>\n",
              "      <td>ME</td>\n",
              "      <td>환경부</td>\n",
              "      <td>1661-9408</td>\n",
              "      <td>9</td>\n",
              "      <td>2.021040e+13</td>\n",
              "      <td>급속(50kW)</td>\n",
              "      <td>11</td>\n",
              "      <td>Y</td>\n",
              "      <td>NaN</td>\n",
              "      <td>N</td>\n",
              "      <td>NaN</td>\n",
              "      <td>N</td>\n",
              "      <td>NaN</td>\n",
              "    </tr>\n",
              "    <tr>\n",
              "      <th>1</th>\n",
              "      <td>세종로 공영주차장</td>\n",
              "      <td>ME000002</td>\n",
              "      <td>1</td>\n",
              "      <td>6</td>\n",
              "      <td>서울특별시 종로구 세종대로 189, 지하주차장 4층 D구역 계단실 앞</td>\n",
              "      <td>37.573611</td>\n",
              "      <td>126.976011</td>\n",
              "      <td>24시간 이용가능</td>\n",
              "      <td>ME</td>\n",
              "      <td>환경부</td>\n",
              "      <td>1661-9408</td>\n",
              "      <td>2</td>\n",
              "      <td>2.021040e+13</td>\n",
              "      <td>급속(50kW)</td>\n",
              "      <td>11</td>\n",
              "      <td>Y</td>\n",
              "      <td>NaN</td>\n",
              "      <td>N</td>\n",
              "      <td>NaN</td>\n",
              "      <td>N</td>\n",
              "      <td>NaN</td>\n",
              "    </tr>\n",
              "    <tr>\n",
              "      <th>2</th>\n",
              "      <td>그랜드앰배서더 서울</td>\n",
              "      <td>ME000003</td>\n",
              "      <td>1</td>\n",
              "      <td>6</td>\n",
              "      <td>서울특별시 중구 동호로 287, 대형버스주차장</td>\n",
              "      <td>37.559352</td>\n",
              "      <td>127.002350</td>\n",
              "      <td>24시간 이용가능</td>\n",
              "      <td>ME</td>\n",
              "      <td>환경부</td>\n",
              "      <td>1661-9408</td>\n",
              "      <td>9</td>\n",
              "      <td>2.021040e+13</td>\n",
              "      <td>급속(50kW)</td>\n",
              "      <td>11</td>\n",
              "      <td>N</td>\n",
              "      <td>NaN</td>\n",
              "      <td>N</td>\n",
              "      <td>NaN</td>\n",
              "      <td>N</td>\n",
              "      <td>NaN</td>\n",
              "    </tr>\n",
              "    <tr>\n",
              "      <th>3</th>\n",
              "      <td>한강진역 공영주차장</td>\n",
              "      <td>ME000004</td>\n",
              "      <td>1</td>\n",
              "      <td>3</td>\n",
              "      <td>서울특별시 용산구 한남동 산10-84, 지상실외주차장</td>\n",
              "      <td>37.540085</td>\n",
              "      <td>127.002804</td>\n",
              "      <td>24시간 이용가능</td>\n",
              "      <td>ME</td>\n",
              "      <td>환경부</td>\n",
              "      <td>1661-9408</td>\n",
              "      <td>9</td>\n",
              "      <td>2.021040e+13</td>\n",
              "      <td>급속(50kW)</td>\n",
              "      <td>11</td>\n",
              "      <td>Y</td>\n",
              "      <td>NaN</td>\n",
              "      <td>N</td>\n",
              "      <td>NaN</td>\n",
              "      <td>N</td>\n",
              "      <td>NaN</td>\n",
              "    </tr>\n",
              "    <tr>\n",
              "      <th>4</th>\n",
              "      <td>기아차 성동서비스센터</td>\n",
              "      <td>ME000005</td>\n",
              "      <td>1</td>\n",
              "      <td>3</td>\n",
              "      <td>서울특별시 성동구 성수이로26길 61, 지상주차장 입구 좌측 경비실 옆</td>\n",
              "      <td>37.544834</td>\n",
              "      <td>127.064226</td>\n",
              "      <td>24시간 이용가능</td>\n",
              "      <td>ME</td>\n",
              "      <td>환경부</td>\n",
              "      <td>1661-9408</td>\n",
              "      <td>9</td>\n",
              "      <td>2.018070e+13</td>\n",
              "      <td>급속(50kW)</td>\n",
              "      <td>11</td>\n",
              "      <td>N</td>\n",
              "      <td>20190626 공사로 인한 임시철거</td>\n",
              "      <td>Y</td>\n",
              "      <td>20190626 공사로 인한 임시철거</td>\n",
              "      <td>N</td>\n",
              "      <td>NaN</td>\n",
              "    </tr>\n",
              "  </tbody>\n",
              "</table>\n",
              "</div>"
            ],
            "text/plain": [
              "       STAT_NM   STAT_ID  CHGER_ID  ...          LIMIT_DETAIL DEL_YN  DEL_DETAIL\n",
              "0     종묘 공영주차장  ME000001         1  ...                   NaN      N         NaN\n",
              "1    세종로 공영주차장  ME000002         1  ...                   NaN      N         NaN\n",
              "2   그랜드앰배서더 서울  ME000003         1  ...                   NaN      N         NaN\n",
              "3   한강진역 공영주차장  ME000004         1  ...                   NaN      N         NaN\n",
              "4  기아차 성동서비스센터  ME000005         1  ...  20190626 공사로 인한 임시철거      N         NaN\n",
              "\n",
              "[5 rows x 21 columns]"
            ]
          },
          "metadata": {},
          "execution_count": 129
        }
      ]
    },
    {
      "cell_type": "code",
      "metadata": {
        "colab": {
          "base_uri": "https://localhost:8080/"
        },
        "id": "ArpAppijeNJ-",
        "outputId": "2a41757e-2043-42a7-c6e1-4437ba91122a"
      },
      "source": [
        "data.info()"
      ],
      "execution_count": null,
      "outputs": [
        {
          "output_type": "stream",
          "name": "stdout",
          "text": [
            "<class 'pandas.core.frame.DataFrame'>\n",
            "RangeIndex: 69293 entries, 0 to 69292\n",
            "Data columns (total 21 columns):\n",
            " #   Column           Non-Null Count  Dtype  \n",
            "---  ------           --------------  -----  \n",
            " 0   STAT_NM          69293 non-null  object \n",
            " 1   STAT_ID          69293 non-null  object \n",
            " 2   CHGER_ID         69293 non-null  int64  \n",
            " 3   CHGER_TYPE       69293 non-null  int64  \n",
            " 4   ADDR             69198 non-null  object \n",
            " 5   LAT              69293 non-null  float64\n",
            " 6   LON              69293 non-null  float64\n",
            " 7   USE_TIME         61477 non-null  object \n",
            " 8   BUSI_ID          69293 non-null  object \n",
            " 9   BUSI_NM          69293 non-null  object \n",
            " 10  BUSI_CALL        64309 non-null  object \n",
            " 11  CHGER_STAT       69293 non-null  int64  \n",
            " 12  STAT_UPD_DT      67699 non-null  float64\n",
            " 13  POWER_TYPE       4375 non-null   object \n",
            " 14  CITY_DO_CD       69293 non-null  int64  \n",
            " 15  PARKING_FREE_YN  68687 non-null  object \n",
            " 16  STAT_NOTE        9692 non-null   object \n",
            " 17  LIMIT_YN         69293 non-null  object \n",
            " 18  LIMIT_DETAIL     32579 non-null  object \n",
            " 19  DEL_YN           69293 non-null  object \n",
            " 20  DEL_DETAIL       2 non-null      object \n",
            "dtypes: float64(3), int64(4), object(14)\n",
            "memory usage: 11.1+ MB\n"
          ]
        }
      ]
    },
    {
      "cell_type": "code",
      "metadata": {
        "colab": {
          "base_uri": "https://localhost:8080/"
        },
        "id": "XdFW8iD-eOnn",
        "outputId": "66e0ef9c-afa3-41d3-e1c4-0f65ba5a432a"
      },
      "source": [
        "data.columns"
      ],
      "execution_count": null,
      "outputs": [
        {
          "output_type": "execute_result",
          "data": {
            "text/plain": [
              "Index(['STAT_NM', 'STAT_ID', 'CHGER_ID', 'CHGER_TYPE', 'ADDR', 'LAT', 'LON',\n",
              "       'USE_TIME', 'BUSI_ID', 'BUSI_NM', 'BUSI_CALL', 'CHGER_STAT',\n",
              "       'STAT_UPD_DT', 'POWER_TYPE', 'CITY_DO_CD', 'PARKING_FREE_YN',\n",
              "       'STAT_NOTE', 'LIMIT_YN', 'LIMIT_DETAIL', 'DEL_YN', 'DEL_DETAIL'],\n",
              "      dtype='object')"
            ]
          },
          "metadata": {},
          "execution_count": 131
        }
      ]
    },
    {
      "cell_type": "code",
      "metadata": {
        "colab": {
          "base_uri": "https://localhost:8080/"
        },
        "id": "buKbcOMleP89",
        "outputId": "dbedd708-f0c2-4059-ba90-5dd8b426eeda"
      },
      "source": [
        "data['LAT'][13], data['LON']"
      ],
      "execution_count": null,
      "outputs": [
        {
          "output_type": "execute_result",
          "data": {
            "text/plain": [
              "(37.60047527, 0        126.995880\n",
              " 1        126.976011\n",
              " 2        127.002350\n",
              " 3        127.002804\n",
              " 4        127.064226\n",
              "             ...    \n",
              " 69288    129.068415\n",
              " 69289    129.125781\n",
              " 69290    129.364458\n",
              " 69291    129.364458\n",
              " 69292    128.631878\n",
              " Name: LON, Length: 69293, dtype: float64)"
            ]
          },
          "metadata": {},
          "execution_count": 132
        }
      ]
    },
    {
      "cell_type": "code",
      "metadata": {
        "colab": {
          "base_uri": "https://localhost:8080/"
        },
        "id": "FXaYJenjeRT-",
        "outputId": "d73e4ec2-871e-4d7c-fe6b-b86b881db47d"
      },
      "source": [
        "data.dropna(subset=['LAT'],inplace=True)\n",
        "data.dropna(subset=['LON'],inplace=True)\n",
        "data.isnull().sum()"
      ],
      "execution_count": null,
      "outputs": [
        {
          "output_type": "execute_result",
          "data": {
            "text/plain": [
              "STAT_NM                0\n",
              "STAT_ID                0\n",
              "CHGER_ID               0\n",
              "CHGER_TYPE             0\n",
              "ADDR                  95\n",
              "LAT                    0\n",
              "LON                    0\n",
              "USE_TIME            7816\n",
              "BUSI_ID                0\n",
              "BUSI_NM                0\n",
              "BUSI_CALL           4984\n",
              "CHGER_STAT             0\n",
              "STAT_UPD_DT         1594\n",
              "POWER_TYPE         64918\n",
              "CITY_DO_CD             0\n",
              "PARKING_FREE_YN      606\n",
              "STAT_NOTE          59601\n",
              "LIMIT_YN               0\n",
              "LIMIT_DETAIL       36714\n",
              "DEL_YN                 0\n",
              "DEL_DETAIL         69291\n",
              "dtype: int64"
            ]
          },
          "metadata": {},
          "execution_count": 133
        }
      ]
    },
    {
      "cell_type": "code",
      "metadata": {
        "id": "GmsjhGkQeTQI"
      },
      "source": [
        "idx_nm_1 = data[data['LON'] == 124].index\n",
        "data = data.drop(idx_nm_1)"
      ],
      "execution_count": null,
      "outputs": []
    },
    {
      "cell_type": "code",
      "metadata": {
        "id": "PdMwwHk8gW1X"
      },
      "source": [
        "from folium import plugins\n",
        "loc = folium.Map(location = [36.581753, 127.861757],\n",
        "                zoom_start=10)\n",
        "des = data['STAT_NM']"
      ],
      "execution_count": null,
      "outputs": []
    },
    {
      "cell_type": "code",
      "metadata": {
        "id": "EieatR5bgYH0"
      },
      "source": [
        "dat_p1 = list( data['LAT'] )\n",
        "dat_p2 = list( data['LON'] )\n",
        "dat_xy = list(zip(dat_p1, dat_p2))"
      ],
      "execution_count": null,
      "outputs": []
    },
    {
      "cell_type": "code",
      "metadata": {
        "id": "LJz-LCphgYQM",
        "colab": {
          "base_uri": "https://localhost:8080/"
        },
        "outputId": "76cedab1-0fed-43db-cf4d-9c376d880416"
      },
      "source": [
        "m = folium.Map(location=[36.581753, 127.861757], zoom_start=7)\n",
        "plugins.MarkerCluster(dat_xy, popups = des).add_to(m)\n"
      ],
      "execution_count": null,
      "outputs": [
        {
          "output_type": "execute_result",
          "data": {
            "text/plain": [
              "<folium.plugins.marker_cluster.MarkerCluster at 0x7f784605ecd0>"
            ]
          },
          "metadata": {},
          "execution_count": 137
        }
      ]
    },
    {
      "cell_type": "code",
      "metadata": {
        "id": "d0BGdMT8gYUz"
      },
      "source": [
        "  \n"
      ],
      "execution_count": null,
      "outputs": []
    },
    {
      "cell_type": "code",
      "metadata": {
        "id": "TFYfKg2Pi4IQ"
      },
      "source": [
        ""
      ],
      "execution_count": null,
      "outputs": []
    },
    {
      "cell_type": "code",
      "metadata": {
        "id": "YT2UH9u-sqxd"
      },
      "source": [
        "\n"
      ],
      "execution_count": null,
      "outputs": []
    },
    {
      "cell_type": "code",
      "metadata": {
        "id": "9uIUR1b5vGqX"
      },
      "source": [
        ""
      ],
      "execution_count": null,
      "outputs": []
    },
    {
      "cell_type": "code",
      "metadata": {
        "colab": {
          "base_uri": "https://localhost:8080/"
        },
        "id": "YDJ9h9jYvnKM",
        "outputId": "94a71df6-87a4-402c-f7a4-b1bb792ffeb9"
      },
      "source": [
        "state_geo = 'TL_SCCO_CTPRVN.json'\n",
        "\n",
        "state_unemployment = 'local_index.csv'\n",
        "state_data = pd.read_csv(state_unemployment, encoding = 'euc-kr')\n",
        "\n",
        "m.choropleth(\n",
        " geo_data=state_geo,\n",
        " name='choropleth',\n",
        " data=state_data,\n",
        " columns=['Code', 'Population'],\n",
        " key_on='feature.properties.CTPRVN_CD',\n",
        " fill_color='YlGn',\n",
        " fill_opacity=0.7,\n",
        " line_opacity=0.5,\n",
        " legend_name='전기차 구매 적합 상대지수'\n",
        ")\n",
        "\n",
        "folium.LayerControl().add_to(m)\n",
        " \n",
        "# # Save to html\n",
        "# m.save('folium_kr.html')\n",
        "# webbrowser.open_new(\"folium_kr.html\")\n",
        "\n"
      ],
      "execution_count": null,
      "outputs": [
        {
          "output_type": "stream",
          "name": "stderr",
          "text": [
            "/usr/local/lib/python3.7/dist-packages/folium/folium.py:426: FutureWarning: The choropleth  method has been deprecated. Instead use the new Choropleth class, which has the same arguments. See the example notebook 'GeoJSON_and_choropleth' for how to do this.\n",
            "  FutureWarning\n"
          ]
        },
        {
          "output_type": "execute_result",
          "data": {
            "text/plain": [
              "<folium.map.LayerControl at 0x7f77eab8a890>"
            ]
          },
          "metadata": {},
          "execution_count": 138
        }
      ]
    },
    {
      "cell_type": "code",
      "metadata": {
        "id": "yV9FzFO-whqI"
      },
      "source": [
        "m.save(\"korea_charger.html\")   "
      ],
      "execution_count": null,
      "outputs": []
    },
    {
      "cell_type": "code",
      "metadata": {
        "id": "MVUnpQdb1kbs"
      },
      "source": [
        ""
      ],
      "execution_count": null,
      "outputs": []
    }
  ]
}